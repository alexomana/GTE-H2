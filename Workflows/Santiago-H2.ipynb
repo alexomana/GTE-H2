{
 "cells": [
  {
   "cell_type": "markdown",
   "id": "46754be8",
   "metadata": {},
   "source": [
    "# Geothermal-Driven Hydrogen Production Techno-Economic Analysis in Santiago Papasquiaro"
   ]
  },
  {
   "cell_type": "code",
   "execution_count": 96,
   "id": "d9db30d8",
   "metadata": {},
   "outputs": [],
   "source": [
    "# Import libraries\n",
    "import numpy as np                        # arrays and matrix math\n",
    "import matplotlib.pyplot as plt           # plotting \n",
    "import pandas as pd                       # DataFrames"
   ]
  },
  {
   "cell_type": "markdown",
   "id": "f5617c46",
   "metadata": {},
   "source": [
    "## Electrolyzer Costs\n",
    "Find electrolyzer costs for both base and limit scenarios and add them up with GTE Base and Limit costs. Total costs will be used as an input for GEOPHIRES in the H2 Base and Limit models."
   ]
  },
  {
   "cell_type": "markdown",
   "id": "6c692f62",
   "metadata": {},
   "source": [
    "### Base Costs"
   ]
  },
  {
   "cell_type": "code",
   "execution_count": 97,
   "id": "9cb2ec79",
   "metadata": {},
   "outputs": [],
   "source": [
    "electroBaseCost = 784 # [USD/kW] from Jacob Schneidewind\n",
    "powerBaseGeo = 10.36 # [MW] from H2 BASE (Geophires)\n",
    "opexBaseFrac = 0.4 # CAPEX % representing operations cost from Jacob Schneidewind\n",
    "\n",
    "# CAPEX\n",
    "baseCapexH = electroBaseCost * powerBaseGeo * 1000 # [USD] convert MW to kW\n",
    "\n",
    "# OPEX\n",
    "baseOpexH = opexBaseFrac * baseCapexH # [USD]"
   ]
  },
  {
   "cell_type": "markdown",
   "id": "d49955eb",
   "metadata": {},
   "source": [
    "### Limit Costs"
   ]
  },
  {
   "cell_type": "code",
   "execution_count": 98,
   "id": "8fe4856b",
   "metadata": {},
   "outputs": [],
   "source": [
    "electroLimitCost = 200 # [USD/kW] from Jacob Schneidewind\n",
    "powerLimitGeo = 53.52 # [MW] from H2 FUTURE REDUCTION (Geophires)\n",
    "opexLimitFrac = 0.2 # CAPEX % representing operations cost from Jacob Schneidewind\n",
    "\n",
    "# CAPEX\n",
    "limitCapexH = electroLimitCost * powerLimitGeo * 1000 # convert MW to kW\n",
    "\n",
    "# OPEX\n",
    "limitOpexH = opexLimitFrac * limitCapexH # [USD]"
   ]
  },
  {
   "cell_type": "markdown",
   "id": "45bd76ab",
   "metadata": {},
   "source": [
    "### Electrolyzer Costs Summary"
   ]
  },
  {
   "cell_type": "code",
   "execution_count": 378,
   "id": "5089055c",
   "metadata": {},
   "outputs": [
    {
     "data": {
      "text/html": [
       "<div>\n",
       "<style scoped>\n",
       "    .dataframe tbody tr th:only-of-type {\n",
       "        vertical-align: middle;\n",
       "    }\n",
       "\n",
       "    .dataframe tbody tr th {\n",
       "        vertical-align: top;\n",
       "    }\n",
       "\n",
       "    .dataframe thead th {\n",
       "        text-align: right;\n",
       "    }\n",
       "</style>\n",
       "<table border=\"1\" class=\"dataframe\">\n",
       "  <thead>\n",
       "    <tr style=\"text-align: right;\">\n",
       "      <th></th>\n",
       "      <th>Base</th>\n",
       "      <th>Limit</th>\n",
       "    </tr>\n",
       "  </thead>\n",
       "  <tbody>\n",
       "    <tr>\n",
       "      <th>CAPEX [USD]</th>\n",
       "      <td>8122240.0</td>\n",
       "      <td>10704000.0</td>\n",
       "    </tr>\n",
       "    <tr>\n",
       "      <th>OPEX [USD/yr]</th>\n",
       "      <td>3248896.0</td>\n",
       "      <td>2140800.0</td>\n",
       "    </tr>\n",
       "  </tbody>\n",
       "</table>\n",
       "</div>"
      ],
      "text/plain": [
       "                    Base       Limit\n",
       "CAPEX [USD]    8122240.0  10704000.0\n",
       "OPEX [USD/yr]  3248896.0   2140800.0"
      ]
     },
     "execution_count": 378,
     "metadata": {},
     "output_type": "execute_result"
    }
   ],
   "source": [
    "# Create dataframe of outputs\n",
    "data1 = {\"Base\": [baseCapexH, baseOpexH],\n",
    "        \"Limit\": [limitCapexH, limitOpexH]}\n",
    "df1 = pd.DataFrame(data1, index = [\"CAPEX [USD]\", \"OPEX [USD/yr]\"])\n",
    "df1"
   ]
  },
  {
   "cell_type": "markdown",
   "id": "8957a016",
   "metadata": {},
   "source": [
    "### Other Costs"
   ]
  },
  {
   "cell_type": "code",
   "execution_count": 381,
   "id": "5ecd2234",
   "metadata": {},
   "outputs": [],
   "source": [
    "# Land Use\n",
    "areaSol = 8.7 * 4046.86 / 1000 # [m2/kW] from 56290 file, and 1acre = 4046.86m2, 1MW = 1000kW\n",
    "areaGTE = areaSol / 50 # [m2/kW] from MIT The Future of Geothermal\n",
    "#areaGTE = 1 / (500 / 1000000) / 1000 # [m2/kW] from 56290-2 file, 1km2 = 1000000m2, 1MW = 1000kW\n",
    "\n",
    "# Land Cost\n",
    "landCost = (2250 / 17) * 4046.86 # [USD/acre] from Ley01 file and assuming 1USD = 17MXN, and 1acre = 4046.86m2\n",
    "\n",
    "# Staff\n",
    "#staff = 2 # [staff/MW] from Issue_Brief_Econ\n",
    "areaStaff = 60000 # [m2/staff] from Jacob Schneidewind (size compared to PEC), area that can be overseen by one staff member\n",
    "#areaStaff = (areaGT * 1000) / staff # [m2/staff] 1MW = 1000kW"
   ]
  },
  {
   "cell_type": "markdown",
   "id": "55446bfe",
   "metadata": {},
   "source": [
    "### Other Costs Summary"
   ]
  },
  {
   "cell_type": "code",
   "execution_count": 382,
   "id": "bcfbed00",
   "metadata": {},
   "outputs": [
    {
     "data": {
      "text/html": [
       "<style type=\"text/css\">\n",
       "</style>\n",
       "<table id=\"T_0819c\">\n",
       "  <thead>\n",
       "    <tr>\n",
       "      <th id=\"T_0819c_level0_col0\" class=\"col_heading level0 col0\" >Land Use [m2/kW]</th>\n",
       "      <th id=\"T_0819c_level0_col1\" class=\"col_heading level0 col1\" >Land Cost [USD/acre]</th>\n",
       "      <th id=\"T_0819c_level0_col2\" class=\"col_heading level0 col2\" >Area Per Staff [m2/staff]</th>\n",
       "    </tr>\n",
       "  </thead>\n",
       "  <tbody>\n",
       "    <tr>\n",
       "      <td id=\"T_0819c_row0_col0\" class=\"data row0 col0\" >0.704154</td>\n",
       "      <td id=\"T_0819c_row0_col1\" class=\"data row0 col1\" >535613.823529</td>\n",
       "      <td id=\"T_0819c_row0_col2\" class=\"data row0 col2\" >60000</td>\n",
       "    </tr>\n",
       "  </tbody>\n",
       "</table>\n"
      ],
      "text/plain": [
       "<pandas.io.formats.style.Styler at 0x12f213710>"
      ]
     },
     "execution_count": 382,
     "metadata": {},
     "output_type": "execute_result"
    }
   ],
   "source": [
    "data5 = {\"Land Use [m2/kW]\": [areaGTE],\n",
    "        \"Land Cost [USD/acre]\": [landCost],\n",
    "        \"Area Per Staff [m2/staff]\": [areaStaff]}\n",
    "df5 = pd.DataFrame(data5)\n",
    "df5.style.hide(axis='index')"
   ]
  },
  {
   "cell_type": "markdown",
   "id": "5e56b03b",
   "metadata": {},
   "source": [
    "## Geothermal Power Plant Costs"
   ]
  },
  {
   "cell_type": "markdown",
   "id": "7485c2d9",
   "metadata": {},
   "source": [
    "### Base Costs"
   ]
  },
  {
   "cell_type": "code",
   "execution_count": 79,
   "id": "6bd300b2",
   "metadata": {},
   "outputs": [],
   "source": [
    "# Power Plant CAPEX\n",
    "baseCapexPP = 40.01 # [MUSD] from GTE BASE (Geophires Surface power plant costs)\n",
    "\n",
    "## Total CAPEX\n",
    "baseCapexGeo = 63.55 # [MUSD] from GTE BASE (Geophires Total capital costs)\n",
    "\n",
    "## Levelized cost of geothermal CAPEX for the pyH2A model\n",
    "levelBaseCapexGeo = (baseCapexGeo * 1000000) / (powerBaseGeo * 1000) # [USD/kW] convert MUSD to USD and MW to kW\n",
    "\n",
    "# Power Plant OPEX\n",
    "baseOpexPP = 1.58 # [MUSD] from GTE BASE (Geophires Surface power plant costs)\n",
    "\n",
    "## Total OPEX\n",
    "baseOpexGeo = 2.1 # [MUSD] from GTE BASE (Geophires Total operating and maintenance costs)"
   ]
  },
  {
   "cell_type": "markdown",
   "id": "a4b65a18",
   "metadata": {},
   "source": [
    "### Limit Costs\n",
    "To find the limit costs of geothermal the procedure is as follows. First, a scenario called GTE Future is run to find the costs of exploration, drilling, and power plant in the future with no cost reductions. Then, a cost reduction is calculated for those values. These last values are used in the GTE Limit scenario.\n",
    "Note: 33% cost reductions in exploration, power plant, and drilling (from Liftoff_DOE_Ne). Assuming each of these disciplines have an equal cost reduction, each represents an 11% reduction."
   ]
  },
  {
   "cell_type": "code",
   "execution_count": 80,
   "id": "55344de0",
   "metadata": {},
   "outputs": [],
   "source": [
    "# Exploration\n",
    "expCost = 6.3 # [MUSD] from GTE FUTURE (Geophires Exploration costs)\n",
    "costRed = 0.11 # [%] from Liftoff_DOE_Ne\n",
    "expCostRed = expCost - (expCost * costRed) # [MUSD]\n",
    "\n",
    "# Drilling\n",
    "drillCost = 380 # [USD/ft] from Fervo Report\n",
    "depth = 4.5 # [km]\n",
    "kmToFt = 3280.84 # [3280.84ft/1km] \n",
    "totalDrillCost = (drillCost / 1000000) * (depth * kmToFt) # [MUSD] convert USD to MUSD\n",
    "drillCostRed = totalDrillCost - (totalDrillCost * costRed) # [MUSD]\n",
    "\n",
    "# Power Plant\n",
    "plantCost = 169.81 # [MUSD] from GTE FUTURE (Geophires Surface power plant costs)\n",
    "plantCostRed = plantCost - (plantCost * costRed) # [MUSD]"
   ]
  },
  {
   "cell_type": "code",
   "execution_count": 81,
   "id": "2af426e0",
   "metadata": {},
   "outputs": [],
   "source": [
    "# Power Plant CAPEX\n",
    "limitCapexPP = plantCostRed\n",
    "\n",
    "## Total CAPEX\n",
    "limitCapexGeo = 185.12 # [MUSD] from GTE LIMIT (Geophires Total capital costs)\n",
    "\n",
    "## Levelized cost of geothermal CAPEX for the pyH2A model.\n",
    "levelLimitCapexGeo = (limitCapexGeo * 1000000) / (powerLimitGeo * 1000) # [USD/kW] convert MUSD to USD and MW to kW\n",
    "\n",
    "# Power Plant OPEX \n",
    "limitOpexPP = 4.03 # [MUSD] from GTE LIMIT (Geophires Power plant maintenance costs)\n",
    "\n",
    "## Total OPEX\n",
    "limitOpexGeo = 4.9 # [MUSD] from GTE LIMIT (Geophires Total operating and maintenance costs)"
   ]
  },
  {
   "cell_type": "markdown",
   "id": "6d2a7ece",
   "metadata": {},
   "source": [
    "### Geothermal Costs Summary"
   ]
  },
  {
   "cell_type": "code",
   "execution_count": 82,
   "id": "56b701b8",
   "metadata": {},
   "outputs": [
    {
     "data": {
      "text/html": [
       "<div>\n",
       "<style scoped>\n",
       "    .dataframe tbody tr th:only-of-type {\n",
       "        vertical-align: middle;\n",
       "    }\n",
       "\n",
       "    .dataframe tbody tr th {\n",
       "        vertical-align: top;\n",
       "    }\n",
       "\n",
       "    .dataframe thead th {\n",
       "        text-align: right;\n",
       "    }\n",
       "</style>\n",
       "<table border=\"1\" class=\"dataframe\">\n",
       "  <thead>\n",
       "    <tr style=\"text-align: right;\">\n",
       "      <th></th>\n",
       "      <th>Base</th>\n",
       "      <th>Limit</th>\n",
       "    </tr>\n",
       "  </thead>\n",
       "  <tbody>\n",
       "    <tr>\n",
       "      <th>GTE CAPEX [USD/kW]</th>\n",
       "      <td>6134.169884</td>\n",
       "      <td>3458.893871</td>\n",
       "    </tr>\n",
       "    <tr>\n",
       "      <th>Power Plant OPEX [MUSD/yr]</th>\n",
       "      <td>1.580000</td>\n",
       "      <td>4.030000</td>\n",
       "    </tr>\n",
       "  </tbody>\n",
       "</table>\n",
       "</div>"
      ],
      "text/plain": [
       "                                   Base        Limit\n",
       " GTE CAPEX [USD/kW]         6134.169884  3458.893871\n",
       "Power Plant OPEX [MUSD/yr]     1.580000     4.030000"
      ]
     },
     "execution_count": 82,
     "metadata": {},
     "output_type": "execute_result"
    }
   ],
   "source": [
    "data2 = {\"Base\": [levelBaseCapexGeo, baseOpexPP],\n",
    "        \"Limit\": [levelLimitCapexGeo, limitOpexPP]}\n",
    "df2 = pd.DataFrame(data2, index = [\" GTE CAPEX [USD/kW]\", \"Power Plant OPEX [MUSD/yr]\"])\n",
    "df2"
   ]
  },
  {
   "cell_type": "markdown",
   "id": "6ea7c2eb",
   "metadata": {},
   "source": [
    "### Geothermal Cost Reductions Summary"
   ]
  },
  {
   "cell_type": "code",
   "execution_count": 71,
   "id": "a33d52c6",
   "metadata": {},
   "outputs": [
    {
     "data": {
      "text/html": [
       "<style type=\"text/css\">\n",
       "</style>\n",
       "<table id=\"T_406ef\">\n",
       "  <thead>\n",
       "    <tr>\n",
       "      <th id=\"T_406ef_level0_col0\" class=\"col_heading level0 col0\" >Exploration [MUSD]</th>\n",
       "      <th id=\"T_406ef_level0_col1\" class=\"col_heading level0 col1\" >Drilling [MUSD]</th>\n",
       "      <th id=\"T_406ef_level0_col2\" class=\"col_heading level0 col2\" >Power Plant [MUSD]</th>\n",
       "    </tr>\n",
       "  </thead>\n",
       "  <tbody>\n",
       "    <tr>\n",
       "      <td id=\"T_406ef_row0_col0\" class=\"data row0 col0\" >5.607000</td>\n",
       "      <td id=\"T_406ef_row0_col1\" class=\"data row0 col1\" >4.993110</td>\n",
       "      <td id=\"T_406ef_row0_col2\" class=\"data row0 col2\" >151.130900</td>\n",
       "    </tr>\n",
       "  </tbody>\n",
       "</table>\n"
      ],
      "text/plain": [
       "<pandas.io.formats.style.Styler at 0x12f021bd0>"
      ]
     },
     "execution_count": 71,
     "metadata": {},
     "output_type": "execute_result"
    }
   ],
   "source": [
    "data3 = {\"Exploration [MUSD]\": [expCostRed],\n",
    "        \"Drilling [MUSD]\": [drillCostRed],\n",
    "        \"Power Plant [MUSD]\": [plantCostRed]}\n",
    "df3 = pd.DataFrame(data3)\n",
    "df3.style.hide(axis='index')"
   ]
  },
  {
   "cell_type": "markdown",
   "id": "ca311fd8",
   "metadata": {},
   "source": [
    "## GTE + H2 Costs"
   ]
  },
  {
   "cell_type": "markdown",
   "id": "52eb7e50",
   "metadata": {},
   "source": [
    "### Base Costs"
   ]
  },
  {
   "cell_type": "code",
   "execution_count": 91,
   "id": "7b332635",
   "metadata": {},
   "outputs": [],
   "source": [
    "# CAPEX\n",
    "baseCapex = (baseCapexH / 1000000) + baseCapexPP # convert USD to MUSD\n",
    "\n",
    "#OPEX\n",
    "baseOpex = (baseOpexH / 1000000) + baseOpexPP # convert USD to MUSD"
   ]
  },
  {
   "cell_type": "markdown",
   "id": "aa4c2d1b",
   "metadata": {},
   "source": [
    "### Limit Costs"
   ]
  },
  {
   "cell_type": "code",
   "execution_count": 92,
   "id": "31b1111f",
   "metadata": {},
   "outputs": [],
   "source": [
    "# CAPEX\n",
    "limitCapex = (limitCapexH / 1000000) + limitCapexPP # convert USD to MUSD\n",
    "\n",
    "#OPEX\n",
    "limitOpex = (limitOpexH / 1000000) + limitOpexPP # convert USD to MUSD"
   ]
  },
  {
   "cell_type": "markdown",
   "id": "b267e6cb",
   "metadata": {},
   "source": [
    "### GTE + H2 Cost Summary"
   ]
  },
  {
   "cell_type": "code",
   "execution_count": 93,
   "id": "7d6fb33e",
   "metadata": {},
   "outputs": [
    {
     "data": {
      "text/html": [
       "<div>\n",
       "<style scoped>\n",
       "    .dataframe tbody tr th:only-of-type {\n",
       "        vertical-align: middle;\n",
       "    }\n",
       "\n",
       "    .dataframe tbody tr th {\n",
       "        vertical-align: top;\n",
       "    }\n",
       "\n",
       "    .dataframe thead th {\n",
       "        text-align: right;\n",
       "    }\n",
       "</style>\n",
       "<table border=\"1\" class=\"dataframe\">\n",
       "  <thead>\n",
       "    <tr style=\"text-align: right;\">\n",
       "      <th></th>\n",
       "      <th>Base</th>\n",
       "      <th>Limit</th>\n",
       "    </tr>\n",
       "  </thead>\n",
       "  <tbody>\n",
       "    <tr>\n",
       "      <th>CAPEX [MUSD]</th>\n",
       "      <td>48.132240</td>\n",
       "      <td>161.8349</td>\n",
       "    </tr>\n",
       "    <tr>\n",
       "      <th>OPEX [MUSD/yr]</th>\n",
       "      <td>4.828896</td>\n",
       "      <td>6.1708</td>\n",
       "    </tr>\n",
       "  </tbody>\n",
       "</table>\n",
       "</div>"
      ],
      "text/plain": [
       "                     Base     Limit\n",
       "CAPEX [MUSD]    48.132240  161.8349\n",
       "OPEX [MUSD/yr]   4.828896    6.1708"
      ]
     },
     "execution_count": 93,
     "metadata": {},
     "output_type": "execute_result"
    }
   ],
   "source": [
    "data4 = {\"Base\": [baseCapex, baseOpex],\n",
    "        \"Limit\": [limitCapex, limitOpex]}\n",
    "df4 = pd.DataFrame(data4, index = [\"CAPEX [MUSD]\", \"OPEX [MUSD/yr]\"])\n",
    "df4"
   ]
  },
  {
   "cell_type": "markdown",
   "id": "1e221027",
   "metadata": {},
   "source": [
    "## H2 Demand for Mining Truck & PM2.5 Emissions"
   ]
  },
  {
   "cell_type": "code",
   "execution_count": 332,
   "id": "b106230f",
   "metadata": {},
   "outputs": [],
   "source": [
    "# Define inputs\n",
    "H2RatioBase = 0.0185 # [kg-H2/kWh] from Jacob Schneidewind\n",
    "H2RatioLimit = 0.025 # [kg-H2/kWh] from Jacob Schneidewind\n",
    "nrgGenBase = 82.83 # [GWh] from H2 BASE (Geophires Average Annual Net Electricity Generation)\n",
    "nrgGenLimit = 428.96 # [GWh] from H2 LIMIT (Geophires Average Annual Net Electricity Generation)\n",
    "\n",
    "rhoDsl = 0.85 # [kg/L] from speight2011\n",
    "nrgDsl = 35.8 # [MJ/L]\n",
    "nrgH2 = 120 # [MJ/kg]\n",
    "etaMotor = 0.85  # [%] from Green_Hydrogen_CMM file\n",
    "etaFuelCell = 0.60 # [%] from Green_Hydrogen_CMM file\n",
    "etaICE = 0.30 # [%] from Green_Hydrogen_CMM file\n",
    "loadFktr = 0.35 # [%] from Green_Hydrogen_CMM file (portion of full power required by the truck: 35% normal load)\n",
    "convFktr = 0.30 # [L/kW/h] unit conversion factor \n",
    "pwrTrk = 682 # [kW] from Green_Hydrogen_CMM file\n",
    "annualHours = 6789 # [h/a] from Green_Hydrogen_CMM file\n",
    "\n",
    "pm25Ctrl = 0.97 # [g/kg-diesel] from bc_emission_ file\n",
    "pm25NoCtrl = 3.6 # [g/kg-diesel] from bc_emission_ file\n",
    "\n",
    "mineProd = 112102341.6 # [t/a] from DURANGO file\n",
    "trkCap = 89.4 # [t] from Green_Hydrogen_CMM file\n",
    "cycleT = 1 # [%] Assuming one trip per hour               [xxxx from v079n07p185 (assuming open-pit mine) xxxx]\n",
    "utilFktr = 0.69 # [%] from JMMCE_2018013014432787 (representing how effective the truck is used)"
   ]
  },
  {
   "cell_type": "code",
   "execution_count": 333,
   "id": "d493431a",
   "metadata": {},
   "outputs": [],
   "source": [
    "# Diesel Fuel Consumption for a Mining Truck\n",
    "fuelCon = convFktr * loadFktr * pwrTrk # [L/h] from Ajol_file_journals\n",
    "pwrDsl = fuelCon * (nrgDiesel * 1000) * etaICE # [kJ/h] 1000kJ = 1MJ"
   ]
  },
  {
   "cell_type": "code",
   "execution_count": 334,
   "id": "63bbf979",
   "metadata": {},
   "outputs": [],
   "source": [
    "# H2 Fuel Consumption for a Mining Truck\n",
    "pwrH2 = pwrDsl / (etaFuelCell * etaMotor) # [kJ/h]\n",
    "mFlowH2 = pwrH2 / (nrgH2 * 1000) # [kg/h] 1000kJ = 1MJ\n",
    "mFlowH2Yr = (mFlowH2 * annualHours) / 1000 # [t/a] 1000kg = 1t"
   ]
  },
  {
   "cell_type": "code",
   "execution_count": 335,
   "id": "6ab968b3",
   "metadata": {},
   "outputs": [],
   "source": [
    "# PM2.5 Emmisions from a typical mining truck in MX\n",
    "pm25CtrlTrk = fuelCon * rhoDsl * pm25Ctrl # [g/h]\n",
    "pm25CtrlTrkYr = (pm25CtrlTrk * annualHours) / 1000 # [kg/a] 1000g = 1kg"
   ]
  },
  {
   "cell_type": "code",
   "execution_count": 336,
   "id": "20ffd38d",
   "metadata": {},
   "outputs": [],
   "source": [
    "# Yearly Hydrogen Production\n",
    "H2ProdBase = H2RatioBase * (nrgGenBase * 1000000) / 1000 # [t/a] 1000kg = 1t, 1GWh = 1000000kWh\n",
    "H2ProdLimit = H2RatioLimit * (nrgGenLimit * 1000000) / 1000 # [t/a] 1000kg = 1t, 1GWh = 1000000kWh"
   ]
  },
  {
   "cell_type": "code",
   "execution_count": 337,
   "id": "13630673",
   "metadata": {},
   "outputs": [],
   "source": [
    "# Number of diesel trucks that can be displaced by H2\n",
    "nTrkBase = np.round(H2ProdBase / mFlowH2Yr) # [trks]\n",
    "nTrkLimit = np.round(H2ProdLimit / mFlowH2Yr) # [trks]"
   ]
  },
  {
   "cell_type": "code",
   "execution_count": 338,
   "id": "9b6c76b6",
   "metadata": {},
   "outputs": [],
   "source": [
    "# PM2.5 Emissions that are avoided\n",
    "Pm25AvoidBase = nTrkBase * pm25CtrlTrkYr / 1000 # [t/a] 1000kg = 1t\n",
    "Pm25AvoidLimit = nTrkLimit * pm25CtrlTrkYr / 1000 # [t/a] 1000kg = 1t"
   ]
  },
  {
   "cell_type": "code",
   "execution_count": 339,
   "id": "9e948706",
   "metadata": {},
   "outputs": [
    {
     "data": {
      "text/html": [
       "<div>\n",
       "<style scoped>\n",
       "    .dataframe tbody tr th:only-of-type {\n",
       "        vertical-align: middle;\n",
       "    }\n",
       "\n",
       "    .dataframe tbody tr th {\n",
       "        vertical-align: top;\n",
       "    }\n",
       "\n",
       "    .dataframe thead th {\n",
       "        text-align: right;\n",
       "    }\n",
       "</style>\n",
       "<table border=\"1\" class=\"dataframe\">\n",
       "  <thead>\n",
       "    <tr style=\"text-align: right;\">\n",
       "      <th></th>\n",
       "      <th>Base</th>\n",
       "      <th>Limit</th>\n",
       "    </tr>\n",
       "  </thead>\n",
       "  <tbody>\n",
       "    <tr>\n",
       "      <th>H2 Production [t/a]</th>\n",
       "      <td>1532.355000</td>\n",
       "      <td>10724.000000</td>\n",
       "    </tr>\n",
       "    <tr>\n",
       "      <th>Displaced Trks [trks]</th>\n",
       "      <td>18.000000</td>\n",
       "      <td>126.000000</td>\n",
       "    </tr>\n",
       "    <tr>\n",
       "      <th>Avoided PM2.5 [t/a]</th>\n",
       "      <td>7.215105</td>\n",
       "      <td>50.505734</td>\n",
       "    </tr>\n",
       "  </tbody>\n",
       "</table>\n",
       "</div>"
      ],
      "text/plain": [
       "                              Base         Limit\n",
       "H2 Production [t/a]    1532.355000  10724.000000\n",
       "Displaced Trks [trks]    18.000000    126.000000\n",
       "Avoided PM2.5 [t/a]       7.215105     50.505734"
      ]
     },
     "execution_count": 339,
     "metadata": {},
     "output_type": "execute_result"
    }
   ],
   "source": [
    "data6 = {\"Base\": [H2ProdBase, nTrkBase, Pm25AvoidBase],\n",
    "        \"Limit\": [H2ProdLimit, nTrkLimit, Pm25AvoidLimit]}\n",
    "df6 = pd.DataFrame(data6, index = [\"H2 Production [t/a]\", \"Displaced Trks [trks]\", \"Avoided PM2.5 [t/a]\"])\n",
    "df6"
   ]
  },
  {
   "cell_type": "code",
   "execution_count": 343,
   "id": "d3da7a00",
   "metadata": {},
   "outputs": [],
   "source": [
    "# Mining truck fleet in Durango\n",
    "trkFlt = np.round((mineProd * cycleT) / (trkCap * annualHours * utilFktr)) # [trks]\n",
    "trkFltPm25 = trkFlt * pm25CtrlTrkYr / 1000 # [t/a] PM2.5 emissions by all mining fleet, 1000kg = 1t\n",
    "\n",
    "dgoPm25 = 66620 # [t/a] from ProAire Durango 1t = 1Mg\n",
    "minePm25 = 1266 + 35 + 16 # [t/a] from ProAire Durango 1t = 1Mg"
   ]
  },
  {
   "cell_type": "code",
   "execution_count": 346,
   "id": "40974061",
   "metadata": {},
   "outputs": [],
   "source": [
    "pctMinePm25 = minePm25 / dgoPm25 # [%] PM2.5 coming from mining activites out of all PM2.5's\n",
    "pctTrkFltPm25 = trkFltPm25 / minePm25 # [%] PM2.5 from mining fleet out of mining PM2.5 emissions\n",
    "\n",
    "pctPm25Base = Pm25AvoidBase / trkFltPm25 # [%] Trucks converted to H2 out of all fleet for base scenario\n",
    "pctPm25Limit = Pm25AvoidLimit / trkFltPm25 # [%] Trucks converted to H2 out of all fleet for limit scenario"
   ]
  },
  {
   "cell_type": "code",
   "execution_count": 348,
   "id": "58bff91b",
   "metadata": {},
   "outputs": [],
   "source": [
    "# Sensitivy 1\n",
    "pctRedBase = pctMinePm25 * pctTrkFltPm25 * pctPm25Base # [%] Fraction of reduced PM2.5 emissions out of total emmisions for base scenario\n",
    "pctRedLimit = pctMinePm25 * pctTrkFltPm25 * pctPm25Limit # [%] Fraction of reduced PM2.5 emissions out of total emmisions for base scenario"
   ]
  },
  {
   "cell_type": "code",
   "execution_count": 354,
   "id": "34942809",
   "metadata": {},
   "outputs": [],
   "source": [
    "# Sensitivity 2\n",
    "beloMinePm25 = 0.44 # [%] from 11869_2010_Article_104\n",
    "beloFltPm25 = 0.13 # [%] from 11869_2010_Article_104\n",
    "\n",
    "pctBeloPm25Base = beloMinePm25 * beloFltPm25 * pctPm25Base\n",
    "pctBeloPm25Limit = beloMinePm25 * beloFltPm25 * pctPm25Limit"
   ]
  },
  {
   "cell_type": "code",
   "execution_count": 355,
   "id": "35cafd8a",
   "metadata": {},
   "outputs": [
    {
     "data": {
      "text/html": [
       "<div>\n",
       "<style scoped>\n",
       "    .dataframe tbody tr th:only-of-type {\n",
       "        vertical-align: middle;\n",
       "    }\n",
       "\n",
       "    .dataframe tbody tr th {\n",
       "        vertical-align: top;\n",
       "    }\n",
       "\n",
       "    .dataframe thead th {\n",
       "        text-align: right;\n",
       "    }\n",
       "</style>\n",
       "<table border=\"1\" class=\"dataframe\">\n",
       "  <thead>\n",
       "    <tr style=\"text-align: right;\">\n",
       "      <th></th>\n",
       "      <th>Base</th>\n",
       "      <th>Limit</th>\n",
       "    </tr>\n",
       "  </thead>\n",
       "  <tbody>\n",
       "    <tr>\n",
       "      <th>Avoided PM2.5 – Ref: ProAire [%]</th>\n",
       "      <td>0.010830</td>\n",
       "      <td>0.075812</td>\n",
       "    </tr>\n",
       "    <tr>\n",
       "      <th>Avoided  PM2.5 – Ref: Brazil [%]</th>\n",
       "      <td>0.384179</td>\n",
       "      <td>2.689254</td>\n",
       "    </tr>\n",
       "  </tbody>\n",
       "</table>\n",
       "</div>"
      ],
      "text/plain": [
       "                                      Base     Limit\n",
       "Avoided PM2.5 – Ref: ProAire [%]  0.010830  0.075812\n",
       "Avoided  PM2.5 – Ref: Brazil [%]  0.384179  2.689254"
      ]
     },
     "execution_count": 355,
     "metadata": {},
     "output_type": "execute_result"
    }
   ],
   "source": [
    "data7 = {\"Base\": [pctRedBase*100, pctBeloPm25Base*100],\n",
    "        \"Limit\": [pctRedLimit*100, pctBeloPm25Limit*100]}\n",
    "df7 = pd.DataFrame(data7, index = [\"Avoided PM2.5 – Ref: ProAire [%]\", \"Avoided  PM2.5 – Ref: Brazil [%]\"])\n",
    "df7"
   ]
  },
  {
   "cell_type": "code",
   "execution_count": null,
   "id": "7c234daa",
   "metadata": {},
   "outputs": [],
   "source": []
  }
 ],
 "metadata": {
  "kernelspec": {
   "display_name": "Python 3 (ipykernel)",
   "language": "python",
   "name": "python3"
  },
  "language_info": {
   "codemirror_mode": {
    "name": "ipython",
    "version": 3
   },
   "file_extension": ".py",
   "mimetype": "text/x-python",
   "name": "python",
   "nbconvert_exporter": "python",
   "pygments_lexer": "ipython3",
   "version": "3.11.4"
  }
 },
 "nbformat": 4,
 "nbformat_minor": 5
}
